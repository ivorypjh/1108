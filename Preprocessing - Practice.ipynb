{
 "cells": [
  {
   "cell_type": "markdown",
   "id": "c286a90d",
   "metadata": {},
   "source": [
    "## 패키지 import"
   ]
  },
  {
   "cell_type": "code",
   "execution_count": 1,
   "id": "ed66ab20",
   "metadata": {},
   "outputs": [],
   "source": [
    "import numpy as np\n",
    "import pandas as pd\n",
    "import matplotlib.pyplot as plt\n",
    "\n",
    "import os"
   ]
  },
  {
   "cell_type": "markdown",
   "id": "1ce9da06",
   "metadata": {},
   "source": [
    "## 데이터 가져오기"
   ]
  },
  {
   "cell_type": "code",
   "execution_count": 85,
   "id": "3097b910",
   "metadata": {},
   "outputs": [],
   "source": [
    "data_09 = pd.read_excel('./9월.xlsx', sheet_name = 'vod09')\n",
    "data_08 = pd.read_excel('./8월.xlsx', sheet_name = 'vod08')"
   ]
  },
  {
   "cell_type": "code",
   "execution_count": 106,
   "id": "d08c8330",
   "metadata": {},
   "outputs": [],
   "source": [
    "# 2개 데이터 합치기\n",
    "con_data = pd.concat([data_08, data_09])\n",
    "con_data = con_data.reset_index(drop = True)"
   ]
  },
  {
   "cell_type": "markdown",
   "id": "4321c640",
   "metadata": {},
   "source": [
    "## 예고편 데이터 삭제하기"
   ]
  },
  {
   "cell_type": "markdown",
   "id": "f2c46fc9",
   "metadata": {},
   "source": [
    "### 제목 데이터에서 괄호 안의 내용 찾기"
   ]
  },
  {
   "cell_type": "code",
   "execution_count": 84,
   "id": "992d962c",
   "metadata": {},
   "outputs": [],
   "source": [
    "import re\n",
    "import copy"
   ]
  },
  {
   "cell_type": "code",
   "execution_count": 63,
   "id": "83028e1d",
   "metadata": {},
   "outputs": [],
   "source": [
    "# 정규 표현식을 통해 괄호 안의 내용 찾기\n",
    "\n",
    "pattern = re.compile(\"\\([A-Za-z가-힣\\s]+\\)|\\([가-힣\\d\\s]+[^\\d\\d\\d\\d]\\)\")\n",
    "\n",
    "# 내용을 임시로 저장\n",
    "sample_list = []\n",
    "\n",
    "# 괄호 안의 내용 저장\n",
    "for item in con_data['asset_nm']:\n",
    "    item = str(item) # str 로 만들지 않으면 int 타입 데이터로 인해 에러가 발생\n",
    "    match_data = pattern.findall(item)\n",
    "    for match in match_data:\n",
    "        if(match not in sample_list):\n",
    "            sample_list += match_data"
   ]
  },
  {
   "cell_type": "code",
   "execution_count": null,
   "id": "bdfba685",
   "metadata": {},
   "outputs": [],
   "source": [
    "# 데이터 확인\n",
    "print(sample_list)"
   ]
  },
  {
   "cell_type": "code",
   "execution_count": 65,
   "id": "2ffa113d",
   "metadata": {},
   "outputs": [],
   "source": [
    "# 데이터를 삭제할 경우\n",
    "del_list = ['(예고)', '(예고편)']"
   ]
  },
  {
   "cell_type": "markdown",
   "id": "3b4eba6b",
   "metadata": {},
   "source": [
    "### 데이터를 삭제할 인덱스를 찾고 삭제"
   ]
  },
  {
   "cell_type": "code",
   "execution_count": 107,
   "id": "df94f190",
   "metadata": {},
   "outputs": [],
   "source": [
    "# 데이터를 삭제할 경우라면 제외하고 해당하지 않으면 새로운 데이터 프레임에 저장\n",
    "\n",
    "# 데이터를 새로 저장할 데이터 프레임 생성\n",
    "not_yego_data = copy.deepcopy(con_data) # 원본 데이터 남겨두기\n",
    "\n",
    "# 패턴 생성\n",
    "pattern = re.compile(\"\\(예고\\)|\\(예고편\\)\")"
   ]
  },
  {
   "cell_type": "code",
   "execution_count": null,
   "id": "e647e1db",
   "metadata": {},
   "outputs": [],
   "source": [
    "# 데이터 확인\n",
    "not_yego_data"
   ]
  },
  {
   "cell_type": "code",
   "execution_count": 88,
   "id": "7d6925dd",
   "metadata": {},
   "outputs": [],
   "source": [
    "# 패턴과 일치하는 예고편의 경우 인덱스를 기록하고 후에 삭제\n",
    "\n",
    "# 인덱스를 저장할 리스트\n",
    "del_list = []\n",
    "del_num = 0\n",
    "\n",
    "# 인덱스 기록\n",
    "for item in not_yego_data['asset_nm']:\n",
    "    item = str(item) \n",
    "    match_data = pattern.findall(item)\n",
    "    if(match_data): # 패턴과 일치하는 경우 처리\n",
    "        del_list.append(del_num)\n",
    "    del_num += 1"
   ]
  },
  {
   "cell_type": "code",
   "execution_count": 112,
   "id": "a155c88f",
   "metadata": {},
   "outputs": [
    {
     "data": {
      "text/plain": [
       "234"
      ]
     },
     "execution_count": 112,
     "metadata": {},
     "output_type": "execute_result"
    }
   ],
   "source": [
    "# 확인\n",
    "#print(del_list)\n",
    "len(del_list)"
   ]
  },
  {
   "cell_type": "code",
   "execution_count": 110,
   "id": "a1a88c66",
   "metadata": {},
   "outputs": [],
   "source": [
    "# 인덱스를 활용해서 데이터에서 행을 제거\n",
    "\n",
    "not_yego_data.drop(del_list , axis = 0, inplace=True)"
   ]
  },
  {
   "cell_type": "code",
   "execution_count": 111,
   "id": "b6de5960",
   "metadata": {},
   "outputs": [
    {
     "name": "stdout",
     "output_type": "stream",
     "text": [
      "10542\n",
      "10776\n"
     ]
    }
   ],
   "source": [
    "print(len(not_yego_data))\n",
    "print(len(con_data))"
   ]
  },
  {
   "cell_type": "code",
   "execution_count": 113,
   "id": "4b6b9648",
   "metadata": {},
   "outputs": [
    {
     "name": "stdout",
     "output_type": "stream",
     "text": [
      "0\n"
     ]
    }
   ],
   "source": [
    "# 예고편 데이터가 모두 삭제되었는지 확인\n",
    "\n",
    "del_num = 0\n",
    "\n",
    "for item in not_yego_data['asset_nm']:\n",
    "    item = str(item) \n",
    "    match_data = pattern.findall(item)\n",
    "    if(match_data): # 패턴과 일치하는 경우 처리\n",
    "        del_num += 1\n",
    "\n",
    "# 확인\n",
    "print(del_num)"
   ]
  },
  {
   "cell_type": "code",
   "execution_count": null,
   "id": "a2a725c1",
   "metadata": {},
   "outputs": [],
   "source": []
  },
  {
   "cell_type": "code",
   "execution_count": null,
   "id": "c2e0089a",
   "metadata": {},
   "outputs": [],
   "source": []
  }
 ],
 "metadata": {
  "kernelspec": {
   "display_name": "Python 3 (ipykernel)",
   "language": "python",
   "name": "python3"
  },
  "language_info": {
   "codemirror_mode": {
    "name": "ipython",
    "version": 3
   },
   "file_extension": ".py",
   "mimetype": "text/x-python",
   "name": "python",
   "nbconvert_exporter": "python",
   "pygments_lexer": "ipython3",
   "version": "3.10.9"
  }
 },
 "nbformat": 4,
 "nbformat_minor": 5
}
